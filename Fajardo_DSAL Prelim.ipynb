{
 "cells": [
  {
   "cell_type": "code",
   "execution_count": 1,
   "metadata": {},
   "outputs": [
    {
     "name": "stdout",
     "output_type": "stream",
     "text": [
      "<class '__main__.Tree'>\n",
      "Display History\n",
      "Contact Tracing\n"
     ]
    }
   ],
   "source": [
    "class Tree(object):\n",
    "    def __init__(self):\n",
    "        self.left = None\n",
    "        self.right = None\n",
    "        self.data = None\n",
    "\n",
    "root = Tree()\n",
    "root.data = \"Main_Menu\"\n",
    "root.left = Tree()\n",
    "root.left.data = \"Display History\"\n",
    "root.right = Tree()\n",
    "root.right.data = \"Contact Tracing\"\n",
    "\n",
    "print (Tree)\n",
    "print(root.left.data)\n",
    "print(root.right.data)"
   ]
  },
  {
   "cell_type": "code",
   "execution_count": 6,
   "metadata": {},
   "outputs": [],
   "source": [
    "class TreeNode:\n",
    "    def __init__(self,data):\n",
    "        self.data = data\n",
    "        self.children =[]\n",
    "        self.parent=none\n",
    "        \n",
    "    def add_child(self,child):\n",
    "        child.parent=self\n",
    "        self.children.apppend(child)\n",
    "        \n",
    "    def Main_Menu():\n",
    "        root = Treenode(\"Main_Menu\")\n",
    "        \n",
    "        Display_History =Treenode(\"Display History\")\n",
    "        root.add_child(Display_History)\n",
    "        \n",
    "        return root\n"
   ]
  },
  {
   "cell_type": "code",
   "execution_count": null,
   "metadata": {},
   "outputs": [],
   "source": []
  }
 ],
 "metadata": {
  "kernelspec": {
   "display_name": "Python 3",
   "language": "python",
   "name": "python3"
  },
  "language_info": {
   "codemirror_mode": {
    "name": "ipython",
    "version": 3
   },
   "file_extension": ".py",
   "mimetype": "text/x-python",
   "name": "python",
   "nbconvert_exporter": "python",
   "pygments_lexer": "ipython3",
   "version": "3.8.3"
  }
 },
 "nbformat": 4,
 "nbformat_minor": 4
}
